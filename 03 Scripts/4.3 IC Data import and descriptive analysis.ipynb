{
 "cells": [
  {
   "cell_type": "code",
   "execution_count": 86,
   "id": "2e7094a5",
   "metadata": {},
   "outputs": [],
   "source": [
    "# import libraries\n",
    "import pandas as pd\n",
    "import numpy as np\n",
    "import os"
   ]
  },
  {
   "cell_type": "code",
   "execution_count": 87,
   "id": "369f774f",
   "metadata": {},
   "outputs": [],
   "source": [
    "vars_list = ['order_id', 'user_id', 'order_number', 'order_dow', 'order_hour_of_day', 'days_since_prior_order']"
   ]
  },
  {
   "cell_type": "code",
   "execution_count": 88,
   "id": "f709440a",
   "metadata": {},
   "outputs": [
    {
     "name": "stdout",
     "output_type": "stream",
     "text": [
      "     order_id  user_id eval_set  order_number  order_dow  order_hour_of_day  \\\n",
      "0     2539329        1    prior             1          2                  8   \n",
      "1     2398795        1    prior             2          3                  7   \n",
      "2      473747        1    prior             3          3                 12   \n",
      "3     2254736        1    prior             4          4                  7   \n",
      "4      431534        1    prior             5          4                 15   \n",
      "..        ...      ...      ...           ...        ...                ...   \n",
      "995   2302602       64    prior             7          5                 20   \n",
      "996   3215917       64    prior             8          6                 17   \n",
      "997   2754807       64    prior             9          6                 15   \n",
      "998   3129760       64    prior            10          1                 10   \n",
      "999   2639013       64    train            11          0                 13   \n",
      "\n",
      "     days_since_prior_order  \n",
      "0                       NaN  \n",
      "1                      15.0  \n",
      "2                      21.0  \n",
      "3                      29.0  \n",
      "4                      28.0  \n",
      "..                      ...  \n",
      "995                     9.0  \n",
      "996                    15.0  \n",
      "997                     7.0  \n",
      "998                     9.0  \n",
      "999                    27.0  \n",
      "\n",
      "[1000 rows x 7 columns]\n"
     ]
    }
   ],
   "source": [
    "import pandas as pd\n",
    "import numpy as np\n",
    "import os\n",
    "\n",
    "df = pd.read_csv(r'C:/Users/Soni/7-7-23(Instacart Basket Analysis)/02 Data/Original Data/orders.csv',nrows=1000)\n",
    "print(df)"
   ]
  },
  {
   "cell_type": "code",
   "execution_count": 89,
   "id": "de08a496",
   "metadata": {},
   "outputs": [],
   "source": [
    "vars_list = ['order_id', 'user_id', 'order_number', 'order_hour_of_day', 'days_since_prior_order']"
   ]
  },
  {
   "cell_type": "code",
   "execution_count": 90,
   "id": "27f3d5fd",
   "metadata": {},
   "outputs": [],
   "source": [
    "# using string path to import file\n",
    "import pandas as pd\n",
    "import numpy as np\n",
    "import os\n",
    "path = r'C:/Users/Soni/7-7-23(Instacart Basket Analysis)/02 Data/Original Data/orders.csv'"
   ]
  },
  {
   "cell_type": "code",
   "execution_count": 91,
   "id": "c96292a6",
   "metadata": {},
   "outputs": [
    {
     "name": "stdout",
     "output_type": "stream",
     "text": [
      "('C:/Users/Soni/7-7-23(Instacart Basket Analysis)/02 Data/Original Data/orders.csv', ['order_id', 'user_id', 'order_number', 'order_hour_of_day', 'days_since_prior_order'])\n"
     ]
    }
   ],
   "source": [
    "\n",
    "p1= (path, vars_list)\n",
    "print (p1)"
   ]
  },
  {
   "cell_type": "code",
   "execution_count": 92,
   "id": "c1b79118",
   "metadata": {},
   "outputs": [
    {
     "name": "stdout",
     "output_type": "stream",
     "text": [
      "     order_id  user_id  order_number  order_hour_of_day  \\\n",
      "0     2539329        1             1                  8   \n",
      "1     2398795        1             2                  7   \n",
      "2      473747        1             3                 12   \n",
      "3     2254736        1             4                  7   \n",
      "4      431534        1             5                 15   \n",
      "..        ...      ...           ...                ...   \n",
      "995   2302602       64             7                 20   \n",
      "996   3215917       64             8                 17   \n",
      "997   2754807       64             9                 15   \n",
      "998   3129760       64            10                 10   \n",
      "999   2639013       64            11                 13   \n",
      "\n",
      "     days_since_prior_order  \n",
      "0                       NaN  \n",
      "1                      15.0  \n",
      "2                      21.0  \n",
      "3                      29.0  \n",
      "4                      28.0  \n",
      "..                      ...  \n",
      "995                     9.0  \n",
      "996                    15.0  \n",
      "997                     7.0  \n",
      "998                     9.0  \n",
      "999                    27.0  \n",
      "\n",
      "[1000 rows x 5 columns]\n"
     ]
    }
   ],
   "source": [
    "df = pd.read_csv(path, usecols = vars_list, nrows=1000)\n",
    "print(df)"
   ]
  },
  {
   "cell_type": "code",
   "execution_count": null,
   "id": "57103795",
   "metadata": {},
   "outputs": [],
   "source": []
  }
 ],
 "metadata": {
  "kernelspec": {
   "display_name": "Python 3 (ipykernel)",
   "language": "python",
   "name": "python3"
  },
  "language_info": {
   "codemirror_mode": {
    "name": "ipython",
    "version": 3
   },
   "file_extension": ".py",
   "mimetype": "text/x-python",
   "name": "python",
   "nbconvert_exporter": "python",
   "pygments_lexer": "ipython3",
   "version": "3.10.9"
  }
 },
 "nbformat": 4,
 "nbformat_minor": 5
}
